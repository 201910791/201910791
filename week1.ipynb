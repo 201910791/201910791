{
  "nbformat": 4,
  "nbformat_minor": 0,
  "metadata": {
    "colab": {
      "name": "week1",
      "provenance": [],
      "authorship_tag": "ABX9TyMjvi7T6yAG4kSRaS5qAb4Q",
      "include_colab_link": true
    },
    "kernelspec": {
      "name": "python3",
      "display_name": "Python 3"
    },
    "language_info": {
      "name": "python"
    }
  },
  "cells": [
    {
      "cell_type": "markdown",
      "metadata": {
        "id": "view-in-github",
        "colab_type": "text"
      },
      "source": [
        "<a href=\"https://colab.research.google.com/github/201910791/201910791/blob/master/week1.ipynb\" target=\"_parent\"><img src=\"https://colab.research.google.com/assets/colab-badge.svg\" alt=\"Open In Colab\"/></a>"
      ]
    },
    {
      "cell_type": "code",
      "metadata": {
        "id": "RIg_w5EGR25d"
      },
      "source": [
        "!apt-get install openjdk-11-jdk-headless -qq > /dev/null"
      ],
      "execution_count": 1,
      "outputs": []
    },
    {
      "cell_type": "code",
      "metadata": {
        "id": "YhOmRzgfSAAm"
      },
      "source": [
        "!wget -q https://downloads.apache.org/spark/spark-3.1.2/spark-3.1.2-bin-hadoop2.7.tgz"
      ],
      "execution_count": 2,
      "outputs": []
    },
    {
      "cell_type": "code",
      "metadata": {
        "id": "NRVjAtGgSAIj"
      },
      "source": [
        "!tar -xf spark-3.1.2-bin-hadoop2.7.tgz"
      ],
      "execution_count": 3,
      "outputs": []
    },
    {
      "cell_type": "code",
      "metadata": {
        "colab": {
          "base_uri": "https://localhost:8080/"
        },
        "id": "2oFmm43mSALX",
        "outputId": "69ac0d5a-1b44-4116-951e-63b6e181696a"
      },
      "source": [
        "!pip install findspark"
      ],
      "execution_count": 4,
      "outputs": [
        {
          "output_type": "stream",
          "name": "stdout",
          "text": [
            "Collecting findspark\n",
            "  Downloading findspark-1.4.2-py2.py3-none-any.whl (4.2 kB)\n",
            "Installing collected packages: findspark\n",
            "Successfully installed findspark-1.4.2\n"
          ]
        }
      ]
    },
    {
      "cell_type": "code",
      "metadata": {
        "id": "g7Xiv2S9SAN_"
      },
      "source": [
        "import os\n",
        "os.environ[\"JAVA_HOME\"] = \"/usr/lib/jvm/java-11-openjdk-amd64\"\n",
        "os.environ[\"SPARK_HOME\"] = \"/content/spark-3.1.2-bin-hadoop2.7\""
      ],
      "execution_count": 6,
      "outputs": []
    },
    {
      "cell_type": "code",
      "metadata": {
        "colab": {
          "base_uri": "https://localhost:8080/"
        },
        "id": "trcx8tVYSAQW",
        "outputId": "facf1ccc-3fa5-448b-8f96-3cf107df6874"
      },
      "source": [
        "!pwd"
      ],
      "execution_count": 7,
      "outputs": [
        {
          "output_type": "stream",
          "name": "stdout",
          "text": [
            "/content\n"
          ]
        }
      ]
    },
    {
      "cell_type": "code",
      "metadata": {
        "colab": {
          "base_uri": "https://localhost:8080/"
        },
        "id": "lVBQHabzSAS9",
        "outputId": "18f700b4-2aeb-4ad3-96f0-b52181e69abd"
      },
      "source": [
        "import os\n",
        "os.listdir('/content')"
      ],
      "execution_count": 8,
      "outputs": [
        {
          "output_type": "execute_result",
          "data": {
            "text/plain": [
              "['.config',\n",
              " 'spark-3.1.2-bin-hadoop2.7',\n",
              " 'spark-3.1.2-bin-hadoop2.7.tgz',\n",
              " 'sample_data']"
            ]
          },
          "metadata": {},
          "execution_count": 8
        }
      ]
    },
    {
      "cell_type": "code",
      "metadata": {
        "colab": {
          "base_uri": "https://localhost:8080/"
        },
        "id": "QRaPbGpVSAVs",
        "outputId": "b7bf83a6-1a33-422a-8137-0b375c42d34c"
      },
      "source": [
        "!ls -l /content"
      ],
      "execution_count": 9,
      "outputs": [
        {
          "output_type": "stream",
          "name": "stdout",
          "text": [
            "total 219200\n",
            "drwxr-xr-x  1 root root      4096 Oct  8 13:45 sample_data\n",
            "drwxr-xr-x 13 1000 1000      4096 May 24 05:00 spark-3.1.2-bin-hadoop2.7\n",
            "-rw-r--r--  1 root root 224445805 May 24 05:01 spark-3.1.2-bin-hadoop2.7.tgz\n"
          ]
        }
      ]
    },
    {
      "cell_type": "code",
      "metadata": {
        "colab": {
          "base_uri": "https://localhost:8080/"
        },
        "id": "intlmKA_SAYQ",
        "outputId": "629b274f-1ebd-46f7-a48e-372d8cb8e232"
      },
      "source": [
        "!javac -version"
      ],
      "execution_count": 10,
      "outputs": [
        {
          "output_type": "stream",
          "name": "stdout",
          "text": [
            "javac 11.0.11\n"
          ]
        }
      ]
    },
    {
      "cell_type": "code",
      "metadata": {
        "colab": {
          "base_uri": "https://localhost:8080/"
        },
        "id": "D4mH1wjmSUNh",
        "outputId": "a3be631d-302d-4a61-ef4e-7ecf753e83cc"
      },
      "source": [
        "!python3 --version"
      ],
      "execution_count": 11,
      "outputs": [
        {
          "output_type": "stream",
          "name": "stdout",
          "text": [
            "Python 3.7.12\n"
          ]
        }
      ]
    },
    {
      "cell_type": "code",
      "metadata": {
        "colab": {
          "base_uri": "https://localhost:8080/"
        },
        "id": "0OiMggOmSUbc",
        "outputId": "7c8e6a78-53cd-4df3-c0d5-14f71a6ad805"
      },
      "source": [
        "!python --version"
      ],
      "execution_count": 12,
      "outputs": [
        {
          "output_type": "stream",
          "name": "stdout",
          "text": [
            "Python 3.7.12\n"
          ]
        }
      ]
    },
    {
      "cell_type": "code",
      "metadata": {
        "colab": {
          "base_uri": "https://localhost:8080/",
          "height": 35
        },
        "id": "HTUeUDSOSUeV",
        "outputId": "ce8e9c28-17c8-47fc-f65d-72101e818953"
      },
      "source": [
        "import sys; sys.executable"
      ],
      "execution_count": 13,
      "outputs": [
        {
          "output_type": "execute_result",
          "data": {
            "application/vnd.google.colaboratory.intrinsic+json": {
              "type": "string"
            },
            "text/plain": [
              "'/usr/bin/python3'"
            ]
          },
          "metadata": {},
          "execution_count": 13
        }
      ]
    },
    {
      "cell_type": "code",
      "metadata": {
        "id": "3_eLSIw6SUhU"
      },
      "source": [
        "os.environ.get('PYSPARK_PYTHON')"
      ],
      "execution_count": 14,
      "outputs": []
    },
    {
      "cell_type": "code",
      "metadata": {
        "id": "TTO0eX8WSUj_"
      },
      "source": [
        "import findspark\n",
        "findspark.init()"
      ],
      "execution_count": 15,
      "outputs": []
    },
    {
      "cell_type": "code",
      "metadata": {
        "colab": {
          "base_uri": "https://localhost:8080/",
          "height": 35
        },
        "id": "QpeFFQhwShZQ",
        "outputId": "59c03616-1b44-4bfb-ab51-4e534aaa2c7f"
      },
      "source": [
        "findspark.find()"
      ],
      "execution_count": 16,
      "outputs": [
        {
          "output_type": "execute_result",
          "data": {
            "application/vnd.google.colaboratory.intrinsic+json": {
              "type": "string"
            },
            "text/plain": [
              "'/content/spark-3.1.2-bin-hadoop2.7'"
            ]
          },
          "metadata": {},
          "execution_count": 16
        }
      ]
    },
    {
      "cell_type": "code",
      "metadata": {
        "id": "I7UPr5BSShcC"
      },
      "source": [
        "import pyspark\n",
        "myConf=pyspark.SparkConf()\n",
        "#myConf=pyspark.SparkConf().set(\"spark.driver.bindAddress\", \"127.0.0.1\")\n",
        "spark = pyspark.sql.SparkSession\\\n",
        "    .builder\\\n",
        "    .master(\"local\")\\\n",
        "    .appName(\"myApp\")\\\n",
        "    .config(conf=myConf)\\\n",
        "    .getOrCreate()\n",
        "   "
      ],
      "execution_count": 18,
      "outputs": []
    },
    {
      "cell_type": "code",
      "metadata": {
        "colab": {
          "base_uri": "https://localhost:8080/",
          "height": 35
        },
        "id": "cmiIcmGvShes",
        "outputId": "ce6e4a8c-aee2-4e87-f064-50309ef7df5c"
      },
      "source": [
        "spark.version"
      ],
      "execution_count": 19,
      "outputs": [
        {
          "output_type": "execute_result",
          "data": {
            "application/vnd.google.colaboratory.intrinsic+json": {
              "type": "string"
            },
            "text/plain": [
              "'3.1.2'"
            ]
          },
          "metadata": {},
          "execution_count": 19
        }
      ]
    },
    {
      "cell_type": "code",
      "metadata": {
        "id": "ASE8HfiXShhP"
      },
      "source": [
        "myList=[1,2,3,4,5,6,7]"
      ],
      "execution_count": 20,
      "outputs": []
    },
    {
      "cell_type": "code",
      "metadata": {
        "id": "-aF7iLewShjy"
      },
      "source": [
        "myRdd1 = spark.sparkContext.parallelize(myList)"
      ],
      "execution_count": 21,
      "outputs": []
    },
    {
      "cell_type": "code",
      "metadata": {
        "colab": {
          "base_uri": "https://localhost:8080/"
        },
        "id": "Od8zXKXzShmH",
        "outputId": "8793d705-5094-403a-f7f1-e0e4777d0fc2"
      },
      "source": [
        "myRdd1.take(3)"
      ],
      "execution_count": 22,
      "outputs": [
        {
          "output_type": "execute_result",
          "data": {
            "text/plain": [
              "[1, 2, 3]"
            ]
          },
          "metadata": {},
          "execution_count": 22
        }
      ]
    },
    {
      "cell_type": "code",
      "metadata": {
        "colab": {
          "base_uri": "https://localhost:8080/"
        },
        "id": "uaPFkdcHTQNC",
        "outputId": "74238aba-ed07-4ae7-939b-bcab7942d3cf"
      },
      "source": [
        "!curl http://httpbin.org/ip"
      ],
      "execution_count": 24,
      "outputs": [
        {
          "output_type": "stream",
          "name": "stdout",
          "text": [
            "{\n",
            "  \"origin\": \"35.236.186.229\"\n",
            "}\n"
          ]
        }
      ]
    },
    {
      "cell_type": "code",
      "metadata": {
        "colab": {
          "base_uri": "https://localhost:8080/"
        },
        "id": "fxCHTszpTQPs",
        "outputId": "35b35eb6-0432-4d33-f572-648968e61a59"
      },
      "source": [
        "!curl http://httpbin.org/get"
      ],
      "execution_count": 25,
      "outputs": [
        {
          "output_type": "stream",
          "name": "stdout",
          "text": [
            "{\n",
            "  \"args\": {}, \n",
            "  \"headers\": {\n",
            "    \"Accept\": \"*/*\", \n",
            "    \"Host\": \"httpbin.org\", \n",
            "    \"User-Agent\": \"curl/7.58.0\", \n",
            "    \"X-Amzn-Trace-Id\": \"Root=1-6164f102-61d22346327c7d164812d4de\"\n",
            "  }, \n",
            "  \"origin\": \"35.236.186.229\", \n",
            "  \"url\": \"http://httpbin.org/get\"\n",
            "}\n"
          ]
        }
      ]
    },
    {
      "cell_type": "code",
      "metadata": {
        "id": "BEZ83xsbTQSX"
      },
      "source": [
        "import requests\n",
        "r = requests.options(\"http://httpbin.org/\")"
      ],
      "execution_count": 26,
      "outputs": []
    },
    {
      "cell_type": "code",
      "metadata": {
        "colab": {
          "base_uri": "https://localhost:8080/"
        },
        "id": "Z-JtCO3jTQUz",
        "outputId": "dac749c4-cc41-4603-b27b-8574aa6c47cb"
      },
      "source": [
        "print(r.headers['allow'])"
      ],
      "execution_count": 27,
      "outputs": [
        {
          "output_type": "stream",
          "name": "stdout",
          "text": [
            "GET, OPTIONS, HEAD\n"
          ]
        }
      ]
    },
    {
      "cell_type": "code",
      "metadata": {
        "colab": {
          "base_uri": "https://localhost:8080/"
        },
        "id": "1m4n8K5fTQXq",
        "outputId": "6251ec50-6920-428c-de1b-5a48d901c5a4"
      },
      "source": [
        "r.status_code"
      ],
      "execution_count": 28,
      "outputs": [
        {
          "output_type": "execute_result",
          "data": {
            "text/plain": [
              "200"
            ]
          },
          "metadata": {},
          "execution_count": 28
        }
      ]
    },
    {
      "cell_type": "code",
      "metadata": {
        "id": "d5v_4NweTQaJ"
      },
      "source": [
        "bad_r = requests.get('http://httpbin.org/status/404')"
      ],
      "execution_count": 29,
      "outputs": []
    },
    {
      "cell_type": "code",
      "metadata": {
        "colab": {
          "base_uri": "https://localhost:8080/"
        },
        "id": "9u_XKWrbTQe5",
        "outputId": "22b4e124-57c1-4bd8-bade-6e8af90eacde"
      },
      "source": [
        "r = requests.post(\"http://httpbin.org/post\", data={\"name\":\"js\"})\n",
        "r.json()"
      ],
      "execution_count": 31,
      "outputs": [
        {
          "output_type": "execute_result",
          "data": {
            "text/plain": [
              "{'args': {},\n",
              " 'data': '',\n",
              " 'files': {},\n",
              " 'form': {'name': 'js'},\n",
              " 'headers': {'Accept': '*/*',\n",
              "  'Accept-Encoding': 'gzip, deflate',\n",
              "  'Content-Length': '7',\n",
              "  'Content-Type': 'application/x-www-form-urlencoded',\n",
              "  'Host': 'httpbin.org',\n",
              "  'User-Agent': 'python-requests/2.23.0',\n",
              "  'X-Amzn-Trace-Id': 'Root=1-6164f146-3753123b7cfc88227dca0155'},\n",
              " 'json': None,\n",
              " 'origin': '35.236.186.229',\n",
              " 'url': 'http://httpbin.org/post'}"
            ]
          },
          "metadata": {},
          "execution_count": 31
        }
      ]
    },
    {
      "cell_type": "code",
      "metadata": {
        "colab": {
          "base_uri": "https://localhost:8080/",
          "height": 73
        },
        "id": "_7AwoqBvThVQ",
        "outputId": "72545f15-cc53-4652-8872-83a4a6e05f85"
      },
      "source": [
        "r = requests.head(\"http://httpbin.org/\")\n",
        "print(r.headers)\n",
        "r.headers['Content-Type']"
      ],
      "execution_count": 32,
      "outputs": [
        {
          "output_type": "stream",
          "name": "stdout",
          "text": [
            "{'Date': 'Tue, 12 Oct 2021 02:22:17 GMT', 'Content-Type': 'text/html; charset=utf-8', 'Content-Length': '9593', 'Connection': 'keep-alive', 'Server': 'gunicorn/19.9.0', 'Access-Control-Allow-Origin': '*', 'Access-Control-Allow-Credentials': 'true'}\n"
          ]
        },
        {
          "output_type": "execute_result",
          "data": {
            "application/vnd.google.colaboratory.intrinsic+json": {
              "type": "string"
            },
            "text/plain": [
              "'text/html; charset=utf-8'"
            ]
          },
          "metadata": {},
          "execution_count": 32
        }
      ]
    },
    {
      "cell_type": "code",
      "metadata": {
        "id": "FyzwXw1qThYk"
      },
      "source": [
        "import urllib\n",
        "\n",
        "class HeadRequest(urllib.request.Request):\n",
        "     def get_method(self):\n",
        "         return \"HEAD\"\n",
        "\n",
        "response = urllib.request.urlopen(HeadRequest(\"http://httpbin.org/\"))"
      ],
      "execution_count": 33,
      "outputs": []
    },
    {
      "cell_type": "code",
      "metadata": {
        "colab": {
          "base_uri": "https://localhost:8080/"
        },
        "id": "oCHj4AfgThdd",
        "outputId": "00c903a2-f0c6-44b6-f190-f3fc4dc8f4ac"
      },
      "source": [
        "print(response.info())"
      ],
      "execution_count": 34,
      "outputs": [
        {
          "output_type": "stream",
          "name": "stdout",
          "text": [
            "Date: Tue, 12 Oct 2021 02:22:41 GMT\n",
            "Content-Type: text/html; charset=utf-8\n",
            "Content-Length: 9593\n",
            "Connection: close\n",
            "Server: gunicorn/19.9.0\n",
            "Access-Control-Allow-Origin: *\n",
            "Access-Control-Allow-Credentials: true\n",
            "\n",
            "\n"
          ]
        }
      ]
    },
    {
      "cell_type": "code",
      "metadata": {
        "colab": {
          "base_uri": "https://localhost:8080/",
          "height": 35
        },
        "id": "3IZOuQy5Thgc",
        "outputId": "ffccc25a-d584-46bd-d114-0f767651228a"
      },
      "source": [
        "response.geturl()"
      ],
      "execution_count": 35,
      "outputs": [
        {
          "output_type": "execute_result",
          "data": {
            "application/vnd.google.colaboratory.intrinsic+json": {
              "type": "string"
            },
            "text/plain": [
              "'http://httpbin.org/'"
            ]
          },
          "metadata": {},
          "execution_count": 35
        }
      ]
    },
    {
      "cell_type": "code",
      "metadata": {
        "id": "PcKrRi7DTz8J"
      },
      "source": [
        "input = '''\n",
        "<students>               # root 태그는 하나만 허용.\n",
        "    <student x=\"1\">      # 속성은 시작태그에 적고, key=\"value\"로 구성. value는 따옴표.\n",
        "        <id>001</id>     # 계층적으로 태그 구성.\n",
        "        <name>Kim</name>\n",
        "    </student>\n",
        "    <student x=\"2\">\n",
        "        <id>002</id>\n",
        "        <name>Lee</name>\n",
        "    </student>\n",
        "</students>\n",
        "'''"
      ],
      "execution_count": 37,
      "outputs": []
    },
    {
      "cell_type": "code",
      "metadata": {
        "id": "7j_WuSiPTz-4"
      },
      "source": [
        "import lxml.etree\n",
        "root=lxml.etree.fromstring(input)"
      ],
      "execution_count": 38,
      "outputs": []
    },
    {
      "cell_type": "code",
      "metadata": {
        "colab": {
          "base_uri": "https://localhost:8080/"
        },
        "id": "7LTk5oyRT0Bj",
        "outputId": "eff11607-5ceb-4720-a4e6-b42d1d37bef0"
      },
      "source": [
        "%%writefile src/ds_open_hello.xml\n",
        "<students>\n",
        "<student x=\"1\">\n",
        "    <id>001</id>\n",
        "    <name>Kim</name>\n",
        "</student>\n",
        "<student x=\"2\">\n",
        "    <id>002</id>\n",
        "    <name>Lee</name>\n",
        "</student>\n",
        "</students>"
      ],
      "execution_count": 44,
      "outputs": [
        {
          "output_type": "stream",
          "name": "stdout",
          "text": [
            "Writing src/ds_open_hello.xml\n"
          ]
        }
      ]
    },
    {
      "cell_type": "code",
      "metadata": {
        "id": "AZn6PlLdT0EI"
      },
      "source": [
        "import os\n",
        "tree=lxml.etree.parse(os.path.join('src','ds_open_hello.xml'))"
      ],
      "execution_count": 45,
      "outputs": []
    },
    {
      "cell_type": "code",
      "metadata": {
        "id": "4MoGBeIXT0HA"
      },
      "source": [
        "root=tree.getroot()"
      ],
      "execution_count": 46,
      "outputs": []
    },
    {
      "cell_type": "code",
      "metadata": {
        "colab": {
          "base_uri": "https://localhost:8080/"
        },
        "id": "_DPxA3LpXCPD",
        "outputId": "7bf928f6-1010-4f39-9ec0-d8306128dbce"
      },
      "source": [
        "for e in root:\n",
        "    print(e.tag)"
      ],
      "execution_count": 47,
      "outputs": [
        {
          "output_type": "stream",
          "name": "stdout",
          "text": [
            "student\n",
            "student\n"
          ]
        }
      ]
    },
    {
      "cell_type": "code",
      "metadata": {
        "id": "D-T9SJ81W51h"
      },
      "source": [
        "root.getchildren()"
      ],
      "execution_count": null,
      "outputs": []
    },
    {
      "cell_type": "markdown",
      "metadata": {
        "id": "KiRLDaWGZBhb"
      },
      "source": [
        ""
      ]
    },
    {
      "cell_type": "code",
      "metadata": {
        "id": "9f8Q9xu5XCYb"
      },
      "source": [
        "std=root.find('student')"
      ],
      "execution_count": 48,
      "outputs": []
    },
    {
      "cell_type": "code",
      "metadata": {
        "colab": {
          "base_uri": "https://localhost:8080/",
          "height": 35
        },
        "id": "5fAapALrXCbw",
        "outputId": "75fa57a7-542f-4eff-ee16-6aeb8726753c"
      },
      "source": [
        "root.find('student')[1].text"
      ],
      "execution_count": 50,
      "outputs": [
        {
          "output_type": "execute_result",
          "data": {
            "application/vnd.google.colaboratory.intrinsic+json": {
              "type": "string"
            },
            "text/plain": [
              "'Kim'"
            ]
          },
          "metadata": {},
          "execution_count": 50
        }
      ]
    },
    {
      "cell_type": "code",
      "metadata": {
        "colab": {
          "base_uri": "https://localhost:8080/"
        },
        "id": "UYggRPzbZ_dL",
        "outputId": "244f942b-c663-4f93-8ac9-2818b6a800ec"
      },
      "source": [
        "!pip install cssselect"
      ],
      "execution_count": 52,
      "outputs": [
        {
          "output_type": "stream",
          "name": "stdout",
          "text": [
            "Collecting cssselect\n",
            "  Downloading cssselect-1.1.0-py2.py3-none-any.whl (16 kB)\n",
            "Installing collected packages: cssselect\n",
            "Successfully installed cssselect-1.1.0\n"
          ]
        }
      ]
    },
    {
      "cell_type": "code",
      "metadata": {
        "id": "Hih4TVgZZ8C2"
      },
      "source": [
        "from lxml.cssselect import CSSSelector\n",
        "\n",
        "sel = CSSSelector('student') # construct a CSS Selector"
      ],
      "execution_count": 53,
      "outputs": []
    },
    {
      "cell_type": "code",
      "metadata": {
        "id": "PycxXl9oaDBC"
      },
      "source": [
        "input = '''[\n",
        "    { \"id\" : \"001\", \"x\" : \"2\", \"name\" : \"Chuck\"},\n",
        "    { \"id\" : \"009\",\"x\" : \"7\",\"name\" : \"Brent\" }\n",
        "]'''"
      ],
      "execution_count": 54,
      "outputs": []
    },
    {
      "cell_type": "code",
      "metadata": {
        "id": "-hLUGR8Ga5BF"
      },
      "source": [
        "import json\n",
        "\n",
        "info = json.loads(input)"
      ],
      "execution_count": 55,
      "outputs": []
    },
    {
      "cell_type": "code",
      "metadata": {
        "colab": {
          "base_uri": "https://localhost:8080/"
        },
        "id": "JXE8lJDRdRUC",
        "outputId": "75020295-9f95-424b-8bb1-7715a4898278"
      },
      "source": [
        "import json\n",
        "import requests\n",
        "\n",
        "url='http://api.ipstack.com/125.176.129.177?access_key=d7cdd0602f68e39767eba8a0e245e849'\n",
        "r=requests.get(url)\n",
        "geo = json.loads(r.text)\n",
        "for k,v in geo.items():\n",
        "    print (k,\"\\t: \",v)"
      ],
      "execution_count": 56,
      "outputs": [
        {
          "output_type": "stream",
          "name": "stdout",
          "text": [
            "ip \t:  125.176.129.177\n",
            "type \t:  ipv4\n",
            "continent_code \t:  AS\n",
            "continent_name \t:  Asia\n",
            "country_code \t:  KR\n",
            "country_name \t:  South Korea\n",
            "region_code \t:  11\n",
            "region_name \t:  Seoul\n",
            "city \t:  Seoul\n",
            "zip \t:  100-011\n",
            "latitude \t:  37.56100082397461\n",
            "longitude \t:  126.98265075683594\n",
            "location \t:  {'geoname_id': 1835848, 'capital': 'Seoul', 'languages': [{'code': 'ko', 'name': 'Korean', 'native': '한국어'}], 'country_flag': 'https://assets.ipstack.com/flags/kr.svg', 'country_flag_emoji': '🇰🇷', 'country_flag_emoji_unicode': 'U+1F1F0 U+1F1F7', 'calling_code': '82', 'is_eu': False}\n"
          ]
        }
      ]
    },
    {
      "cell_type": "code",
      "metadata": {
        "colab": {
          "base_uri": "https://localhost:8080/"
        },
        "id": "-5yT8WTpdVsI",
        "outputId": "fdddfbe2-76a2-49c6-9b47-24cf2a42a436"
      },
      "source": [
        "%%writefile src/key.properties\n",
        "dataseoul=474c6b446a6a656132394f4d4a4e68\n",
        "gokr=bT2ayiKzJ8HrUhpuiS5uoLqmwnnnxwSGSZewHjfxOg2DQOMUEzT2%2BKkgFBboX5%2FK2G78XQ7OmnAG%2BjVf0VPVFQ%3D%3D"
      ],
      "execution_count": 68,
      "outputs": [
        {
          "output_type": "stream",
          "name": "stdout",
          "text": [
            "Overwriting src/key.properties\n"
          ]
        }
      ]
    },
    {
      "cell_type": "code",
      "metadata": {
        "colab": {
          "base_uri": "https://localhost:8080/"
        },
        "id": "JZ3N1YwGoE4q",
        "outputId": "157cd79b-9be7-40f4-86a8-1a62c0b59d7c"
      },
      "source": [
        "%%writefile src/__init__.py\n",
        " "
      ],
      "execution_count": 62,
      "outputs": [
        {
          "output_type": "stream",
          "name": "stdout",
          "text": [
            "Overwriting src/__init__.py\n"
          ]
        }
      ]
    },
    {
      "cell_type": "code",
      "metadata": {
        "colab": {
          "base_uri": "https://localhost:8080/"
        },
        "id": "OKXNbjuQoElx",
        "outputId": "ebee065e-7e65-4ac7-9198-81367c949559"
      },
      "source": [
        "%%writefile src/mylib.py\n",
        "def sayHello():\n",
        "    print(\"hello\")\n",
        "\n",
        "def getKey(keyPath):\n",
        "    d=dict()\n",
        "    f=open(keyPath,'r')\n",
        "    for line in f.readlines():\n",
        "        row=line.split('=')\n",
        "        row0=row[0]\n",
        "        d[row0]=row[1].strip()\n",
        "    return d"
      ],
      "execution_count": 60,
      "outputs": [
        {
          "output_type": "stream",
          "name": "stdout",
          "text": [
            "Writing src/mylib.py\n"
          ]
        }
      ]
    },
    {
      "cell_type": "code",
      "metadata": {
        "colab": {
          "base_uri": "https://localhost:8080/"
        },
        "id": "waPnELYMoUIb",
        "outputId": "d6a3ff67-7213-41fd-ad9a-02d988958a50"
      },
      "source": [
        "import src.mylib\n",
        "print (src.mylib.sayHello())"
      ],
      "execution_count": 63,
      "outputs": [
        {
          "output_type": "stream",
          "name": "stdout",
          "text": [
            "hello\n",
            "None\n"
          ]
        }
      ]
    },
    {
      "cell_type": "code",
      "metadata": {
        "id": "VfBAEEr8oUQW"
      },
      "source": [
        "import os\n",
        "import src.mylib\n",
        "\n",
        "keyPath=os.path.join(os.getcwd(), 'src', 'key.properties')\n",
        "key=src.mylib.getKey(keyPath)"
      ],
      "execution_count": 69,
      "outputs": []
    },
    {
      "cell_type": "code",
      "metadata": {
        "colab": {
          "base_uri": "https://localhost:8080/"
        },
        "id": "nHvMeSpEoUTA",
        "outputId": "df6c771c-85e8-4294-c479-7ce15d5ef669"
      },
      "source": [
        "print (key['dataseoul'])"
      ],
      "execution_count": 70,
      "outputs": [
        {
          "output_type": "stream",
          "name": "stdout",
          "text": [
            "474c6b446a6a656132394f4d4a4e68\n"
          ]
        }
      ]
    },
    {
      "cell_type": "code",
      "metadata": {
        "colab": {
          "base_uri": "https://localhost:8080/"
        },
        "id": "JoLcLcJyoUV-",
        "outputId": "cd7713b1-5fbe-47e5-ac06-5436d35ece07"
      },
      "source": [
        "print (key['gokr'])"
      ],
      "execution_count": 71,
      "outputs": [
        {
          "output_type": "stream",
          "name": "stdout",
          "text": [
            "bT2ayiKzJ8HrUhpuiS5uoLqmwnnnxwSGSZewHjfxOg2DQOMUEzT2%2BKkgFBboX5%2FK2G78XQ7OmnAG%2BjVf0VPVFQ%3D%3D\n"
          ]
        }
      ]
    },
    {
      "cell_type": "code",
      "metadata": {
        "id": "1AEIYHAsoUYC"
      },
      "source": [
        ""
      ],
      "execution_count": null,
      "outputs": []
    },
    {
      "cell_type": "code",
      "metadata": {
        "id": "HUVh7l6UoUa8"
      },
      "source": [
        ""
      ],
      "execution_count": null,
      "outputs": []
    },
    {
      "cell_type": "code",
      "metadata": {
        "id": "VsKNcBCXoUdI"
      },
      "source": [
        ""
      ],
      "execution_count": null,
      "outputs": []
    },
    {
      "cell_type": "code",
      "metadata": {
        "id": "lNJto_G6oUfy"
      },
      "source": [
        ""
      ],
      "execution_count": null,
      "outputs": []
    },
    {
      "cell_type": "code",
      "metadata": {
        "id": "re-fWKUtoUhe"
      },
      "source": [
        ""
      ],
      "execution_count": null,
      "outputs": []
    }
  ]
}